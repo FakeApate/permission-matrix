{
 "cells": [
  {
   "cell_type": "code",
   "execution_count": null,
   "id": "a0916505",
   "metadata": {},
   "outputs": [
    {
     "ename": "ModuleNotFoundError",
     "evalue": "No module named 'graphviz'",
     "output_type": "error",
     "traceback": [
      "\u001b[31m---------------------------------------------------------------------------\u001b[39m",
      "\u001b[31mModuleNotFoundError\u001b[39m                       Traceback (most recent call last)",
      "\u001b[36mCell\u001b[39m\u001b[36m \u001b[39m\u001b[32mIn[1]\u001b[39m\u001b[32m, line 2\u001b[39m\n\u001b[32m      1\u001b[39m \u001b[38;5;28;01mfrom\u001b[39;00m\u001b[38;5;250m \u001b[39m\u001b[34;01mcollections\u001b[39;00m\u001b[38;5;250m \u001b[39m\u001b[38;5;28;01mimport\u001b[39;00m defaultdict\n\u001b[32m----> \u001b[39m\u001b[32m2\u001b[39m \u001b[38;5;28;01mfrom\u001b[39;00m\u001b[38;5;250m \u001b[39m\u001b[34;01mgraphviz\u001b[39;00m\u001b[38;5;250m \u001b[39m\u001b[38;5;28;01mimport\u001b[39;00m Digraph\n\u001b[32m      3\u001b[39m \u001b[38;5;28;01mfrom\u001b[39;00m\u001b[38;5;250m \u001b[39m\u001b[34;01mIPython\u001b[39;00m\u001b[34;01m.\u001b[39;00m\u001b[34;01mdisplay\u001b[39;00m\u001b[38;5;250m \u001b[39m\u001b[38;5;28;01mimport\u001b[39;00m display\n",
      "\u001b[31mModuleNotFoundError\u001b[39m: No module named 'graphviz'"
     ]
    }
   ],
   "source": [
    "from collections import defaultdict\n",
    "from graphviz import Digraph\n",
    "from IPython.display import display"
   ]
  },
  {
   "cell_type": "code",
   "execution_count": null,
   "id": "f19c4d2a",
   "metadata": {},
   "outputs": [],
   "source": [
    "class User:\n",
    "    def __init__(self, name, department):\n",
    "        self.name = name\n",
    "        self.apps = []\n",
    "        self.department = department\n",
    "    def __repr__(self):\n",
    "        return f\"{self.name} ({self.department})\""
   ]
  },
  {
   "cell_type": "code",
   "execution_count": null,
   "id": "33a0a431",
   "metadata": {},
   "outputs": [],
   "source": [
    "class HostPort:\n",
    "    def __init__(self, host, port):\n",
    "        self.host = host\n",
    "        self.port = port\n",
    "    def __repr__(self):\n",
    "        return f\"{self.host}:{self.port}\"\n",
    "    def __eq__(self, other):\n",
    "        return isinstance(other, HostPort) and self.host == other.host and self.port == other.port\n",
    "    def __hash__(self):\n",
    "        return hash((self.host, self.port))"
   ]
  },
  {
   "cell_type": "code",
   "execution_count": null,
   "id": "a6b38297",
   "metadata": {},
   "outputs": [],
   "source": [
    "class Application:\n",
    "    def __init__(self, name, hps):\n",
    "        self.name = name\n",
    "        self.hps = hps\n",
    "    def __repr__(self):\n",
    "        hosts = \"\\n\".join(f\"\\t- {hp}\" for hp in self.hps)\n",
    "        return f\"{self.name} →\\n{hosts}\""
   ]
  },
  {
   "cell_type": "markdown",
   "id": "1ed4eaba",
   "metadata": {},
   "source": [
    "### 👥 Company Directory\n",
    "\n",
    "| ID  | Name                | Department   |\n",
    "|-----|---------------------|--------------|\n",
    "| u1  | Joseph Cummings     | HR           |\n",
    "| u2  | Matthew Rivera      | Marketing    |\n",
    "| u3  | Jason Hayes         | External *(external)* |\n",
    "| u4  | Justin Gutierrez    | HR           |\n",
    "| u5  | Randall Underwood   | IT           |\n",
    "| u6  | Robert Davis        | Engineering  |"
   ]
  },
  {
   "cell_type": "code",
   "execution_count": null,
   "id": "e85afc95",
   "metadata": {},
   "outputs": [],
   "source": [
    "company = [\n",
    "    User(\"Joseph Cummings\", \"HR\"),\n",
    "    User(\"Matthew Rivera\", \"Marketing\"),\n",
    "    User(\"Jason Hayes\", \"External\"),\n",
    "    User(\"Justin Gutierrez\", \"HR\"),\n",
    "    User(\"Randall Underwood\", \"IT\"),\n",
    "    User(\"Robert Davis\", \"Engineering\"),\n",
    "]\n"
   ]
  },
  {
   "cell_type": "markdown",
   "id": "acb5600f",
   "metadata": {},
   "source": [
    "### 🧩 Applications\n",
    "\n",
    "| App ID | Name             | Category  | Endpoints                             |\n",
    "|--------|------------------|-----------|----------------------------------------|\n",
    "| a1     | hr-analytics     | HR        | - srv.hr.local:443  <br> - hr.corp.local:8080 |\n",
    "| a2     | it-admin         | IT        | - marketing.corp.local:22  <br> - srv.hr.local:22 |\n",
    "| a3     | marketing-web    | Marketing | - marketing.corp.local:443            |\n"
   ]
  },
  {
   "cell_type": "code",
   "execution_count": null,
   "id": "908e4d57",
   "metadata": {},
   "outputs": [],
   "source": [
    "host_ports = {\n",
    "    \"h1\": HostPort(\"srv.hr.local\", 80),\n",
    "    \"h2\": HostPort(\"hr.corp.local\", 8080),\n",
    "    \"i1\": HostPort(\"marketing.corp.local\", 22),\n",
    "    \"i2\": HostPort(\"srv.hr.local\", 22),\n",
    "    \"m1\": HostPort(\"marketing.corp.local\", 443),\n",
    "}\n",
    "\n",
    "apps = [\n",
    "    Application(\"hr-analytics\",[host_ports[\"h1\"], host_ports[\"h2\"]]),\n",
    "    Application(\"it-admin\", [host_ports[\"i1\"], host_ports[\"i2\"]]),\n",
    "    Application(\"marketing-web\", [host_ports[\"m1\"]]),\n",
    "]"
   ]
  },
  {
   "cell_type": "markdown",
   "id": "3ec3c868",
   "metadata": {},
   "source": [
    "### 📋 Permission Matrix\n",
    "\n",
    "#### Application-level\n",
    "\n",
    "| Users             | a1  | a2  | a3  |\n",
    "|-------------------|-----|-----|-----|\n",
    "| Joseph Cummings   | x   |     |     |\n",
    "| Matthew Rivera    |     |     | x   |\n",
    "| Jason Hayes       |     |     | x   |\n",
    "| Justin Gutierrez  | x   |     |     |\n",
    "| Randall Underwood |     | x   |     |\n",
    "| Robert Davis      |     | x   |     |\n",
    "\n"
   ]
  },
  {
   "cell_type": "code",
   "execution_count": null,
   "id": "20af4817",
   "metadata": {},
   "outputs": [],
   "source": [
    "permission_matrix= {\n",
    "    \"Joseph Cummings\":      [1, 0, 0],\n",
    "    \"Matthew Rivera\":       [0, 0, 1],\n",
    "    \"Jason Hayes\":          [0, 0, 1],\n",
    "    \"Justin Gutierrez\":     [1, 0, 0],\n",
    "    \"Randall Underwood\":    [0, 1, 0],\n",
    "    \"Robert Davis\":         [0, 1, 0],\n",
    "}"
   ]
  },
  {
   "cell_type": "code",
   "execution_count": null,
   "id": "6d9ed6f0",
   "metadata": {},
   "outputs": [],
   "source": [
    "app_labels = [i.name for i in apps]"
   ]
  },
  {
   "cell_type": "code",
   "execution_count": null,
   "id": "841dea80",
   "metadata": {},
   "outputs": [],
   "source": [
    "hosts = []\n",
    "for app in apps:\n",
    "    hosts.extend(app.hps)\n",
    "hosts = set(hosts)"
   ]
  },
  {
   "cell_type": "code",
   "execution_count": null,
   "id": "b38a5bfa",
   "metadata": {},
   "outputs": [],
   "source": [
    "flat = {}\n",
    "for user, permissions in permission_matrix.items():\n",
    "    allowed_apps = [apps[i] for i, permission in enumerate(permissions) if permission == 1]\n",
    "    flat[user] = {}\n",
    "\n",
    "    allowed_hosts = []\n",
    "    for app in allowed_apps:\n",
    "        allowed_hosts.extend(app.hps)\n",
    "    allowed_apps = set(allowed_apps)\n",
    "\n",
    "    for host in hosts:\n",
    "        perm = 1 if host in allowed_hosts else 0\n",
    "        flat[user][host] = perm"
   ]
  },
  {
   "cell_type": "code",
   "execution_count": null,
   "id": "a6a12689",
   "metadata": {},
   "outputs": [],
   "source": [
    "def group_users_by_hostport_access(flat):\n",
    "    grouped = defaultdict(list)\n",
    "\n",
    "    # Create access patterns (tuple of allowed HostPort objects)\n",
    "    for user, access_dict in flat.items():\n",
    "        pattern = tuple(sorted([hp for hp, allowed in access_dict.items() if allowed], key=lambda x: (x.host, x.port)))\n",
    "        grouped[pattern].append(user)\n",
    "\n",
    "    return grouped"
   ]
  },
  {
   "cell_type": "code",
   "execution_count": null,
   "id": "4e617381",
   "metadata": {},
   "outputs": [],
   "source": [
    "# Get ordered lists for indexing\n",
    "user_labels = list(flat.keys())\n",
    "host_labels = list(sorted(flat[user_labels[0]].keys(), key=lambda x: str(x)))  # consistent order\n",
    "hostport_labels = sorted(set(hp for u in flat.values() for hp in u.keys()), key=lambda x: (x.host, x.port))\n",
    "\n",
    "# Index maps for pretty variable names\n",
    "user_index_map = {u: i for i, u in enumerate(user_labels)}\n",
    "hostport_index_map = {hp: i for i, hp in enumerate(hostport_labels)}\n",
    "\n",
    "# Run grouping and generate expression\n",
    "grouped = group_users_by_hostport_access(flat)"
   ]
  },
  {
   "cell_type": "code",
   "execution_count": null,
   "id": "805200e3",
   "metadata": {},
   "outputs": [],
   "source": [
    "\n",
    "\n",
    "def build_custom_grouped_tree_graphviz(grouped, user_index_map, hostport_index_map):\n",
    "    dot = Digraph(comment=\"Grouped Boolean Formula\")\n",
    "    dot.attr(rankdir='TB')\n",
    "\n",
    "    # Root node\n",
    "    dot.node(\"root\", \"Φ\", shape=\"ellipse\", style=\"filled\", fillcolor=\"lightgray\")\n",
    "\n",
    "    for i, (host_set, users) in enumerate(grouped.items()):\n",
    "        and_node = f\"AND_{i}\"\n",
    "        dot.node(and_node, \"∧\", shape=\"ellipse\", style=\"filled\", fillcolor=\"lightblue\")\n",
    "        dot.edge(\"root\", and_node)\n",
    "\n",
    "        # User group (OR)\n",
    "        if len(users) > 1:\n",
    "            user_or_node = f\"USER_OR_{i}\"\n",
    "            dot.node(user_or_node, \"∨ (Users)\", shape=\"ellipse\", style=\"filled\", fillcolor=\"lightyellow\")\n",
    "            dot.edge(and_node, user_or_node)\n",
    "            for user in users:\n",
    "                user_id = f\"U_{user_index_map[user]}\"\n",
    "                label = f\"U[{user_index_map[user]}]\\\\n{user}\"\n",
    "                dot.node(user_id, label, shape=\"box\")\n",
    "                dot.edge(user_or_node, user_id)\n",
    "        else:\n",
    "            user = users[0]\n",
    "            user_id = f\"U_{user_index_map[user]}\"\n",
    "            label = f\"U[{user_index_map[user]}]\\\\n{user}\"\n",
    "            dot.node(user_id, label, shape=\"box\")\n",
    "            dot.edge(and_node, user_id)\n",
    "\n",
    "        # HostPort group (OR)\n",
    "        if len(host_set) > 1:\n",
    "            hp_or_node = f\"HP_OR_{i}\"\n",
    "            dot.node(hp_or_node, \"∨ (HP)\", shape=\"ellipse\", style=\"filled\", fillcolor=\"lightyellow\")\n",
    "            dot.edge(and_node, hp_or_node)\n",
    "            for hp in host_set:\n",
    "                hp_id = f\"HP_{i}_{hostport_index_map[hp]}\"\n",
    "                label = f\"HP[{hostport_index_map[hp]}]\\\\n{hp.host}:{hp.port}\"\n",
    "                dot.node(hp_id, label, shape=\"box\")\n",
    "                dot.edge(hp_or_node, hp_id)\n",
    "        else:\n",
    "            hp = list(host_set)[0]\n",
    "            hp_id = f\"HP_{i}_{hostport_index_map[hp]}\"\n",
    "            label = f\"HP[{hostport_index_map[hp]}]\\\\n{hp.host}:{hp.port}\"\n",
    "            dot.node(hp_id, label, shape=\"box\")\n",
    "            dot.edge(and_node, hp_id)\n",
    "\n",
    "    return dot\n",
    "\n",
    "# Generate the Graphviz object\n",
    "dot_graph = build_custom_grouped_tree_graphviz(grouped, user_index_map, hostport_index_map)\n",
    "display(dot_graph)"
   ]
  },
  {
   "cell_type": "code",
   "execution_count": null,
   "id": "7db86950",
   "metadata": {},
   "outputs": [],
   "source": [
    "# Generate index maps\n",
    "user_labels = list(flat.keys())\n",
    "hostport_labels = sorted(set(hp for u in flat.values() for hp in u.keys()), key=lambda x: (x.host, x.port))\n",
    "user_index_map = {u: i for i, u in enumerate(user_labels)}\n",
    "hostport_index_map = {hp: i for i, hp in enumerate(hostport_labels)}\n",
    "\n",
    "# Function for non-grouped formula tree\n",
    "def build_flat_permission_tree_graphviz(flat, user_index_map, hostport_index_map):\n",
    "    dot = Digraph(comment=\"Flat Boolean Formula\")\n",
    "    dot.attr(rankdir='TB')\n",
    "\n",
    "    # Root node\n",
    "    dot.node(\"root\", \"Φ\", shape=\"ellipse\", style=\"filled\", fillcolor=\"lightgray\")\n",
    "\n",
    "    # For each user-hostport pair where permission is 1, create (user ∧ host) node\n",
    "    clause_count = 0\n",
    "    for user, access_map in flat.items():\n",
    "        for hp, allowed in access_map.items():\n",
    "            if allowed:\n",
    "                and_node = f\"AND_{clause_count}\"\n",
    "                dot.node(and_node, \"∧\", shape=\"ellipse\", style=\"filled\", fillcolor=\"lightblue\")\n",
    "                dot.edge(\"root\", and_node)\n",
    "\n",
    "                u_id = f\"U_{user_index_map[user]}\"\n",
    "                u_label = f\"U[{user_index_map[user]}]\\\\n{user}\"\n",
    "                dot.node(u_id, u_label, shape=\"box\")\n",
    "                dot.edge(and_node, u_id)\n",
    "\n",
    "                hp_id = f\"HP_{hostport_index_map[hp]}\"\n",
    "                hp_label = f\"HP[{hostport_index_map[hp]}]\\\\n{hp.host}:{hp.port}\"\n",
    "                dot.node(hp_id, hp_label, shape=\"box\")\n",
    "                dot.edge(and_node, hp_id)\n",
    "\n",
    "                clause_count += 1\n",
    "\n",
    "    return dot\n",
    "\n",
    "# Render and return image path\n",
    "flat_tree = build_flat_permission_tree_graphviz(flat, user_index_map, hostport_index_map)\n",
    "display(flat_tree)\n"
   ]
  }
 ],
 "metadata": {
  "kernelspec": {
   "display_name": ".venv",
   "language": "python",
   "name": "python3"
  },
  "language_info": {
   "codemirror_mode": {
    "name": "ipython",
    "version": 3
   },
   "file_extension": ".py",
   "mimetype": "text/x-python",
   "name": "python",
   "nbconvert_exporter": "python",
   "pygments_lexer": "ipython3",
   "version": "3.13.2"
  }
 },
 "nbformat": 4,
 "nbformat_minor": 5
}
